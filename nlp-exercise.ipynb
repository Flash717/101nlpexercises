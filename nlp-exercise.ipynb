{
 "cells": [
  {
   "cell_type": "markdown",
   "metadata": {},
   "source": [
    "# 101 NLP Exercises\n",
    "\n",
    "see also on (the website)[https://machinelearningplus.com/nlp/nlp-exercises/]"
   ]
  },
  {
   "cell_type": "code",
   "execution_count": 2,
   "metadata": {},
   "outputs": [
    {
     "name": "stderr",
     "output_type": "stream",
     "text": [
      "[nltk_data] Downloading package punkt to\n",
      "[nltk_data]     /Users/florianknaus/nltk_data...\n",
      "[nltk_data]   Package punkt is already up-to-date!\n",
      "[nltk_data] Error loading stop: Package 'stop' not found in index\n",
      "[nltk_data] Downloading package stopwords to\n",
      "[nltk_data]     /Users/florianknaus/nltk_data...\n",
      "[nltk_data]   Package stopwords is already up-to-date!\n"
     ]
    },
    {
     "data": {
      "text/plain": [
       "True"
      ]
     },
     "execution_count": 2,
     "metadata": {},
     "output_type": "execute_result"
    }
   ],
   "source": [
    "import nltk\n",
    "\n",
    "nltk.download('punkt')\n",
    "nltk.download('stop')\n",
    "nltk.download('stopwords')"
   ]
  },
  {
   "cell_type": "code",
   "execution_count": 8,
   "metadata": {},
   "outputs": [
    {
     "data": {
      "text/plain": [
       "<spacy.lang.en.English at 0x156128ca0>"
      ]
     },
     "execution_count": 8,
     "metadata": {},
     "output_type": "execute_result"
    }
   ],
   "source": [
    "import spacy\n",
    "\n",
    "nlp = spacy.load('en_core_web_sm')\n",
    "nlp"
   ]
  },
  {
   "cell_type": "code",
   "execution_count": 4,
   "metadata": {},
   "outputs": [
    {
     "name": "stdout",
     "output_type": "stream",
     "text": [
      "Last\n",
      "week\n",
      ",\n",
      "the\n",
      "University\n",
      "of\n",
      "Cambridge\n",
      "in\n",
      "England\n",
      "shared\n",
      "its\n",
      "own\n",
      "research\n",
      "that\n",
      "shows\n",
      "if\n",
      "everyone\n",
      "wears\n",
      "a\n",
      "mask\n",
      "outside\n",
      "home\n",
      ",\n",
      "dreaded\n",
      "'\n",
      "second\n",
      "wave\n",
      "'\n",
      "of\n",
      "the\n",
      "pandemic\n",
      "can\n",
      "be\n",
      "avoided\n",
      ".\n"
     ]
    }
   ],
   "source": [
    "text = \"Last week, the University of Cambridge in England shared its own research that shows if everyone wears a mask outside home, dreaded 'second wave' of the pandemic can be avoided.\"\n",
    "doc = nlp(text)\n",
    "for token in doc:\n",
    "    print(token.text)   "
   ]
  },
  {
   "cell_type": "code",
   "execution_count": 5,
   "metadata": {},
   "outputs": [
    {
     "name": "stdout",
     "output_type": "stream",
     "text": [
      "The outbreak of the coronavirus disease 2019 (COVID-19) has created a global health crisis that has had a deep impact on the way we perceive our world and our everyday lives.\n",
      "Not only the rate of contagion and patterns of transmission threatens our sense of agency, but the safety measures put in place to contain the spread of the virus also require social distancing by refraining from doing what is inherently human, which is to find solace in the company of others.\n",
      "Within this context of physical threat, social and physical distancing, as well as public alarm, what has been (and can be) the role of the different mass media channels in our lives on individual, social and societal levels?\n",
      "Mass media have long been recognized as powerful forces shaping how we experience the world and ourselves.\n",
      "This recognition is accompanied by a growing volume of research, that closely follows the footsteps of technological transformations (e.g. radio, movies, television, the internet, mobiles) and the zeitgeist (e.g. cold war, 9/11, climate change) in an attempt to map mass media major impacts on how we perceive ourselves, both as individuals and citizens.\n",
      "Are media (broadcast and digital) still able to convey a sense of unity reaching large audiences, or are messages lost in the noisy crowd of mass self-communication?\n"
     ]
    }
   ],
   "source": [
    "text=\"\"\"The outbreak of the coronavirus disease 2019 (COVID-19) has created a global health crisis that has had a deep impact on the way we perceive our world and our everyday lives. Not only the rate of contagion and patterns of transmission threatens our sense of agency, but the safety measures put in place to contain the spread of the virus also require social distancing by refraining from doing what is inherently human, which is to find solace in the company of others. Within this context of physical threat, social and physical distancing, as well as public alarm, what has been (and can be) the role of the different mass media channels in our lives on individual, social and societal levels? Mass media have long been recognized as powerful forces shaping how we experience the world and ourselves. This recognition is accompanied by a growing volume of research, that closely follows the footsteps of technological transformations (e.g. radio, movies, television, the internet, mobiles) and the zeitgeist (e.g. cold war, 9/11, climate change) in an attempt to map mass media major impacts on how we perceive ourselves, both as individuals and citizens. Are media (broadcast and digital) still able to convey a sense of unity reaching large audiences, or are messages lost in the noisy crowd of mass self-communication? \"\"\"\n",
    "doc = nlp(text)\n",
    "for sentence in doc.sents:\n",
    "    print(sentence.text)"
   ]
  },
  {
   "cell_type": "code",
   "execution_count": 8,
   "metadata": {},
   "outputs": [
    {
     "name": "stdout",
     "output_type": "stream",
     "text": [
      "[101, 1045, 2293, 3500, 2161, 1012, 1045, 2175, 13039, 2007, 2026, 2814, 102]\n"
     ]
    },
    {
     "data": {
      "text/plain": [
       "'[CLS] i love spring season. i go hiking with my friends [SEP]'"
      ]
     },
     "execution_count": 8,
     "metadata": {},
     "output_type": "execute_result"
    }
   ],
   "source": [
    "from transformers import BertTokenizer\n",
    "\n",
    "text=\"I love spring season. I go hiking with my friends\"\n",
    "tokenizer = BertTokenizer.from_pretrained('bert-base-uncased')\n",
    "encoded_input = tokenizer.encode(text)\n",
    "print(encoded_input)\n",
    "tokenizer.decode(encoded_input)"
   ]
  },
  {
   "cell_type": "code",
   "execution_count": 9,
   "metadata": {},
   "outputs": [
    {
     "name": "stdout",
     "output_type": "stream",
     "text": [
      "[101, 1045, 2293, 3500, 2161, 1012, 1045, 2175, 13039, 2007, 2026, 2814, 102]\n"
     ]
    },
    {
     "data": {
      "text/plain": [
       "'[CLS] i love spring season. i go hiking with my friends [SEP]'"
      ]
     },
     "execution_count": 9,
     "metadata": {},
     "output_type": "execute_result"
    }
   ],
   "source": [
    "from transformers import AutoTokenizer\n",
    "tokenizer = AutoTokenizer.from_pretrained(\"bert-base-uncased\")\n",
    "inputs = tokenizer.encode(text)\n",
    "print(inputs)\n",
    "tokenizer.decode(inputs)"
   ]
  },
  {
   "cell_type": "code",
   "execution_count": 11,
   "metadata": {},
   "outputs": [
    {
     "name": "stdout",
     "output_type": "stream",
     "text": [
      "['Walter', 'feeling anxious', 'He', 'diagnosed today', 'He probably', 'best person I know']\n"
     ]
    }
   ],
   "source": [
    "text = \"Walter was feeling anxious. He was diagnosed today. He probably is the best person I know.\"\n",
    "stoplist = [\"is\", \"the\", \"was\", \".\", \",\", \"-\", \"!\", \"?\"]\n",
    "for i in stoplist:\n",
    "    text = text.replace(i, \"DELIM\")\n",
    "words = [t.strip() for t in text.split(\"DELIM\") if t]\n",
    "words_filtered = list(filter(lambda a: a not in [''], words))\n",
    "print(words_filtered)"
   ]
  },
  {
   "cell_type": "code",
   "execution_count": 5,
   "metadata": {},
   "outputs": [
    {
     "name": "stdout",
     "output_type": "stream",
     "text": [
      "outbreak of coronavirus disease 2019 ( COVID-19 ) created global health crisis that had deep impact on way we perceive our world and our everyday lives Not only rate of contagion and patterns of transmission threatens our sense of agency but safety measures put in place to contain spread of virus also require social distancing by refraining from doing what inherently human which to find solace in company of others Within this context of physical threat social and physical distancing as well as public alarm what been ( and can be ) role of different mass media channels in our lives on individual social and societal levels Mass media have long been recognized as powerful forces shaping how we experience world and ourselves This recognition accompanied by growing volume of research that closely follows footsteps of technological transformations ( e.g. radio movies television internet mobiles ) and zeitgeist ( e.g. cold war 9/11 climate change ) in an attempt to map mass media major impacts on how we perceive ourselves both as individuals and citizens Are media ( broadcast and digital ) still able to convey sense of unity reaching large audiences or are messages lost in noisy crowd of mass self communication \n"
     ]
    }
   ],
   "source": [
    "text=\"\"\"the outbreak of coronavirus disease 2019 (COVID-19) has created a global health crisis that has had a deep impact on the way we perceive our world and our everyday lives. Not only the rate of contagion and patterns of transmission threatens our sense of agency, but the safety measures put in place to contain the spread of the virus also require social distancing by refraining from doing what is inherently human, which is to find solace in the company of others. Within this context of physical threat, social and physical distancing, as well as public alarm, what has been (and can be) the role of the different mass media channels in our lives on individual, social and societal levels? Mass media have long been recognized as powerful forces shaping how we experience the world and ourselves. This recognition is accompanied by a growing volume of research, that closely follows the footsteps of technological transformations (e.g. radio, movies, television, the internet, mobiles) and the zeitgeist (e.g. cold war, 9/11, climate change) in an attempt to map mass media major impacts on how we perceive ourselves, both as individuals and citizens. Are media (broadcast and digital) still able to convey a sense of unity reaching large audiences, or are messages lost in the noisy crowd of mass self-communication? \"\"\"\n",
    "stoplist = [\"is\", \"the\", \"was\", \"has\", \"a\", \".\", \",\", \"-\", \"!\", \"?\"]\n",
    "doc = nlp(text)\n",
    "result = \"\"\n",
    "for i in doc:\n",
    "    if i.text not in stoplist:\n",
    "        result += i.text + \" \"\n",
    "print(result)"
   ]
  },
  {
   "cell_type": "code",
   "execution_count": 6,
   "metadata": {},
   "outputs": [
    {
     "name": "stdout",
     "output_type": "stream",
     "text": [
      "outbreak coronavirus disease 2019 ( COVID-19 ) created global health crisis deep impact way perceive world everyday lives . Not rate contagion patterns transmission threatens sense agency , safety measures put place contain spread virus also require social distancing refraining inherently human , find solace company others . Within context physical threat , social physical distancing , well public alarm , ( ) role different mass media channels lives individual , social societal levels ? Mass media long recognized powerful forces shaping experience world . This recognition accompanied growing volume research , closely follows footsteps technological transformations ( e.g . radio , movies , television , internet , mobiles ) zeitgeist ( e.g . cold war , 9/11 , climate change ) attempt map mass media major impacts perceive , individuals citizens . Are media ( broadcast digital ) still able convey sense unity reaching large audiences , messages lost noisy crowd mass self-communication ?\n"
     ]
    }
   ],
   "source": [
    "import nltk\n",
    "# nltk.download()\n",
    "from nltk.corpus import stopwords\n",
    "stoplist = stopwords.words('english')\n",
    "result = []\n",
    "all_tokens = nltk.word_tokenize(text)\n",
    "for i in all_tokens:\n",
    "    if i not in stoplist:\n",
    "        result.append(i)\n",
    "print(\" \".join(result))"
   ]
  },
  {
   "cell_type": "code",
   "execution_count": 7,
   "metadata": {},
   "outputs": [
    {
     "name": "stdout",
     "output_type": "stream",
     "text": [
      "  Jonas great guy Adam evil Martha fool\n"
     ]
    }
   ],
   "source": [
    "text=\" Jonas was a JUNK great guy NIL Adam was evil NIL Martha JUNK was more of a fool \"\n",
    "stoplist = [\"JUNK\", \"NIL\"]\n",
    "for w in stoplist:\n",
    "    nlp.vocab[w].is_stop = True\n",
    "doc = nlp(text)\n",
    "tokens = [token.text for token in doc if not token.is_stop]\n",
    "print(\" \".join(tokens))"
   ]
  },
  {
   "cell_type": "code",
   "execution_count": 11,
   "metadata": {},
   "outputs": [
    {
     "name": "stdout",
     "output_type": "stream",
     "text": [
      "The match has concluded India has won the match Will we fin the finals too\n"
     ]
    }
   ],
   "source": [
    "text=\"The match has concluded !!! India has won the match . Will we fin the finals too ? !\"\n",
    "doc = nlp(text)\n",
    "tokens = [token.text for token in doc if not token.is_punct]\n",
    "print(\" \".join(tokens))"
   ]
  },
  {
   "cell_type": "code",
   "execution_count": 15,
   "metadata": {},
   "outputs": [
    {
     "name": "stdout",
     "output_type": "stream",
     "text": [
      "danc is an art . student should be taught danc as a subject in school . i danc in mani of my school function . some peopl are alway hesit to danc .\n"
     ]
    }
   ],
   "source": [
    "from nltk.stem import PorterStemmer\n",
    "text= \"Dancing is an art. Students should be taught dance as a subject in schools . I danced in many of my school function. Some people are always hesitating to dance.\"\n",
    "stemmer = PorterStemmer()\n",
    "result = []\n",
    "for token in nltk.word_tokenize(text):\n",
    "    result.append(stemmer.stem(token))\n",
    "\n",
    "print(\" \".join(result))"
   ]
  },
  {
   "cell_type": "markdown",
   "metadata": {},
   "source": [
    "Input:\n",
    "\n",
    "text= \"Dancing is an art. Students should be taught dance as a subject in schools . I danced in many of my school function. Some people are always hesitating to dance.\"\n",
    "\n",
    "Desired Output:\n",
    "\n",
    "text= 'dancing be an art . student should be teach dance as a subject in school . -PRON- dance in many of -PRON- school function . some people be always hesitate to dance .'"
   ]
  },
  {
   "cell_type": "code",
   "execution_count": 16,
   "metadata": {},
   "outputs": [
    {
     "name": "stdout",
     "output_type": "stream",
     "text": [
      "dancing be an art . student should be teach dance as a subject in school . I dance in many of my school function . some people be always hesitate to dance .\n"
     ]
    }
   ],
   "source": [
    "text= \"Dancing is an art. Students should be taught dance as a subject in schools . I danced in many of my school function. Some people are always hesitating to dance.\"\n",
    "doc = nlp(text)\n",
    "result = [token.lemma_ for token in doc]\n",
    "print(\" \".join(result))"
   ]
  },
  {
   "cell_type": "markdown",
   "metadata": {},
   "source": [
    "12. How to extract usernames from emails ?\n",
    "Difficulty Level : L2\n",
    "\n",
    "Q. Extract the usernames from the email addresses present in the text\n",
    "\n",
    "Input :\n",
    "\n",
    "text= \"The new registrations are potter709@gmail.com , elixir101@gmail.com. If you find any disruptions, kindly contact granger111@gamil.com or severus77@gamil.com \"\n",
    "Desired Output :\n",
    "\n",
    "['potter709', 'elixir101', 'granger111', 'severus77']"
   ]
  },
  {
   "cell_type": "code",
   "execution_count": 19,
   "metadata": {},
   "outputs": [
    {
     "name": "stdout",
     "output_type": "stream",
     "text": [
      "['potter709', 'elixir101', 'granger111', 'severus77']\n"
     ]
    }
   ],
   "source": [
    "text= \"The new registrations are potter709@gmail.com , elixir101@gmail.com. If you find any disruptions, kindly contact granger111@gamil.com or severus77@gamil.com \"\n",
    "doc = nlp(text)\n",
    "emails = [token.text for token in doc if token.like_email]\n",
    "output = [email[:email.index('@')] for email in emails]\n",
    "print(output)"
   ]
  },
  {
   "cell_type": "markdown",
   "metadata": {},
   "source": [
    "13. How to find the most common words in the text excluding stopwords\n",
    "Difficulty Level : L2\n",
    "\n",
    "Q. Extract the top 10 most common words in the given text excluding stopwords.\n",
    "\n",
    "Input :\n",
    "\n",
    "text=\"\"\"Junkfood - Food that do no good to our body. And there's no need of them in our body but still we willingly eat them because they are great in taste and easy to cook or ready to eat. Junk foods have no or very less nutritional value and irrespective of the way they are marketed, they are not healthy to consume.The only reason of their gaining popularity and increased trend of consumption is \n",
    "that they are ready to eat or easy to cook foods. People, of all age groups are moving towards Junkfood as it is hassle free and often ready to grab and eat. Cold drinks, chips, noodles, pizza, burgers, French fries etc. are few examples from the great variety of junk food available in the market.\n",
    " Junkfood is the most dangerous food ever but it is pleasure in eating and it gives a great taste in mouth examples of Junkfood are kurkure and chips.. cold rings are also source of junk food... they shud nt be ate in high amounts as it results fatal to our body... it cn be eated in a limited extend ... in research its found tht ths junk foods r very dangerous fr our health\n",
    "Junkfood is very harmful that is slowly eating away the health of the present generation. The term itself denotes how dangerous it is for our bodies. Most importantly, it tastes so good that people consume it on a daily basis. However, not much awareness is spread about the harmful effects of Junkfood .\n",
    "The problem is more serious than you think. Various studies show that Junkfood impacts our health negatively. They contain higher levels of calories, fats, and sugar. On the contrary, they have very low amounts of healthy nutrients and lack dietary fibers. Parents must discourage their children from consuming junk food because of the ill effects it has on one’s health.\n",
    "Junkfood is the easiest way to gain unhealthy weight. The amount of fats and sugar in the food makes you gain weight rapidly. However, this is not a healthy weight. It is more of fats and cholesterol which will have a harmful impact on your health. Junk food is also one of the main reasons for the increase in obesity nowadays.\n",
    "This food only looks and tastes good, other than that, it has no positive points. The amount of calorie your body requires to stay fit is not fulfilled by this food. For instance, foods like French fries, burgers, candy, and cookies, all have high amounts of sugar and fats. Therefore, this can result in long-term illnesses like diabetes and high blood pressure. This may also result in kidney failure.\"\"\"\n",
    "\n",
    "Desired Output:\n",
    "\n",
    "text= {Junkfood: 10,\n",
    " food: 8,\n",
    " good: 5,\n",
    " harmful : 3\n",
    " body: 1,\n",
    " need: 1,\n",
    "\n",
    " ...(truncated)"
   ]
  },
  {
   "cell_type": "code",
   "execution_count": 3,
   "metadata": {},
   "outputs": [
    {
     "name": "stdout",
     "output_type": "stream",
     "text": [
      "[('Junkfood', 8), ('food', 8), ('health', 5), ('body', 4), ('eat', 4), ('foods', 4), ('junk', 4), ('The', 4), ('fats', 4), ('good', 3)]\n"
     ]
    }
   ],
   "source": [
    "text=\"\"\"Junkfood - Food that do no good to our body. And there's no need of them in our body but still we willingly eat them because they are great in taste and easy to cook or ready to eat. Junk foods have no or very less nutritional value and irrespective of the way they are marketed, they are not healthy to consume.The only reason of their gaining popularity and increased trend of consumption is \n",
    "that they are ready to eat or easy to cook foods. People, of all age groups are moving towards Junkfood as it is hassle free and often ready to grab and eat. Cold drinks, chips, noodles, pizza, burgers, French fries etc. are few examples from the great variety of junk food available in the market.\n",
    " Junkfood is the most dangerous food ever but it is pleasure in eating and it gives a great taste in mouth examples of Junkfood are kurkure and chips.. cold rings are also source of junk food... they shud nt be ate in high amounts as it results fatal to our body... it cn be eated in a limited extend ... in research its found tht ths junk foods r very dangerous fr our health\n",
    "Junkfood is very harmful that is slowly eating away the health of the present generation. The term itself denotes how dangerous it is for our bodies. Most importantly, it tastes so good that people consume it on a daily basis. However, not much awareness is spread about the harmful effects of Junkfood .\n",
    "The problem is more serious than you think. Various studies show that Junkfood impacts our health negatively. They contain higher levels of calories, fats, and sugar. On the contrary, they have very low amounts of healthy nutrients and lack dietary fibers. Parents must discourage their children from consuming junk food because of the ill effects it has on one’s health.\n",
    "Junkfood is the easiest way to gain unhealthy weight. The amount of fats and sugar in the food makes you gain weight rapidly. However, this is not a healthy weight. It is more of fats and cholesterol which will have a harmful impact on your health. Junk food is also one of the main reasons for the increase in obesity nowadays.\n",
    "This food only looks and tastes good, other than that, it has no positive points. The amount of calorie your body requires to stay fit is not fulfilled by this food. For instance, foods like French fries, burgers, candy, and cookies, all have high amounts of sugar and fats. Therefore, this can result in long-term illnesses like diabetes and high blood pressure. This may also result in kidney failure.\"\"\"\n",
    "tokens = nltk.word_tokenize(text)\n",
    "filtered_tokens = [token for token in tokens if (not token in nltk.corpus.stopwords.words('english') and token.isalnum())]\n",
    "counts = nltk.FreqDist(filtered_tokens)\n",
    "print(counts.most_common(10))"
   ]
  },
  {
   "cell_type": "markdown",
   "metadata": {},
   "source": [
    "14. How to do spell correction in a given text ?\n",
    "Difficulty Level : L2\n",
    "\n",
    "Q. Correct the spelling errors in the following text\n",
    "\n",
    "Input :\n",
    "\n",
    "text=\"He is a gret person. He beleives in bod\"\n",
    "Desired Output:\n",
    "\n",
    "text=\"He is a great person. He believes in god\""
   ]
  },
  {
   "cell_type": "code",
   "execution_count": 4,
   "metadata": {},
   "outputs": [
    {
     "name": "stdout",
     "output_type": "stream",
     "text": [
      "He is a great person. He believes in god\n"
     ]
    }
   ],
   "source": [
    "from textblob import TextBlob\n",
    "\n",
    "text=\"He is a gret person. He beleives in bod\"\n",
    "text = TextBlob(text)\n",
    "print(text.correct())"
   ]
  },
  {
   "cell_type": "markdown",
   "metadata": {},
   "source": [
    "15. How to tokenize tweets ?\n",
    "Difficulty Level : L2\n",
    "\n",
    "Q. Clean the following tweet and tokenize them\n",
    "\n",
    "Input :\n",
    "\n",
    "text=\" Having lots of fun #goa #vaction #summervacation. Fancy dinner @Beachbay restro :) \"\n",
    "Desired Output :\n",
    "\n",
    "['Having',\n",
    " 'lots',\n",
    " 'of',\n",
    " 'fun',\n",
    " 'goa',\n",
    " 'vaction',\n",
    " 'summervacation',\n",
    " 'Fancy',\n",
    " 'dinner',\n",
    " 'Beachbay',\n",
    " 'restro']\n",
    " ```"
   ]
  },
  {
   "cell_type": "code",
   "execution_count": 6,
   "metadata": {},
   "outputs": [
    {
     "name": "stdout",
     "output_type": "stream",
     "text": [
      "['Having', 'lots', 'of', 'fun', '#goa', '#vaction', '#summervacation', '.', 'Fancy', 'dinner', '@Beachbay', 'restro', ':)']\n"
     ]
    }
   ],
   "source": [
    "text=\" Having lots of fun #goa #vaction #summervacation. Fancy dinner @Beachbay restro :) \"\n",
    "import re\n",
    "text = re.sub(r'[^\\w]', ' ', text)\n",
    "\n",
    "from nltk.tokenize import TweetTokenizer\n",
    "tokenizer = TweetTokenizer()\n",
    "tokens = tokenizer.tokenize(text)\n",
    "print(tokens)"
   ]
  },
  {
   "cell_type": "markdown",
   "metadata": {},
   "source": [
    "16. How to extract all the nouns in a text?\n",
    "Difficulty Level : L2\n",
    "\n",
    "Q. Extract and print all the nouns present in the below text\n",
    "\n",
    "Input:\n",
    "\n",
    "text=\"James works at Microsoft. She lives in manchester and likes to play the flute\"\n",
    "Desired Output :\n",
    "\n",
    "James\n",
    "Microsoft\n",
    "manchester\n",
    "flute"
   ]
  },
  {
   "cell_type": "code",
   "execution_count": 11,
   "metadata": {},
   "outputs": [
    {
     "name": "stdout",
     "output_type": "stream",
     "text": [
      "James\n",
      "Microsoft\n",
      "manchester\n",
      "flute\n"
     ]
    }
   ],
   "source": [
    "text=\"James works at Microsoft. She lives in manchester and likes to play the flute\"\n",
    "nlp = spacy.load('en_core_web_sm')\n",
    "doc = nlp(text)\n",
    "for token in doc:\n",
    "    if token.pos_ == \"PROPN\" or token.pos_ == \"NOUN\":\n",
    "        print(token.text)"
   ]
  },
  {
   "cell_type": "markdown",
   "metadata": {},
   "source": [
    "17. How to extract all the pronouns in a text?\n",
    "Difficulty Level : L2\n",
    "\n",
    "Q. Extract and print all the pronouns in the text\n",
    "\n",
    "Input :\n",
    "text=\"John is happy finally. He had landed his dream job finally. He told his mom. She was elated \"\n",
    "\n",
    "Desired Output :\n",
    " He\n",
    " He\n",
    " She"
   ]
  },
  {
   "cell_type": "code",
   "execution_count": 12,
   "metadata": {},
   "outputs": [
    {
     "name": "stdout",
     "output_type": "stream",
     "text": [
      "He\n",
      "his\n",
      "He\n",
      "his\n",
      "She\n"
     ]
    }
   ],
   "source": [
    "text=\"John is happy finally. He had landed his dream job finally. He told his mom. She was elated \"\n",
    "doc = nlp(text)\n",
    "for token in doc:\n",
    "    if token.pos_ == \"PRON\":\n",
    "        print(token.text)"
   ]
  },
  {
   "cell_type": "markdown",
   "metadata": {},
   "source": [
    "18. How to find similarity between two words?\n",
    "Find the similarity between any two words.\n",
    "\n",
    "Input :\n",
    "word1=\"amazing\"\n",
    "word2=\"terrible\"\n",
    "word3=\"excellent\"\n",
    "\n",
    "Desired Output:\n",
    "#> similarity between amazing and terrible is 0.46189071343764604\n",
    "#> similarity between amazing and excellent is 0.638820708673777"
   ]
  },
  {
   "cell_type": "code",
   "execution_count": 14,
   "metadata": {},
   "outputs": [
    {
     "name": "stderr",
     "output_type": "stream",
     "text": [
      "3152.07s - pydevd: Sending message related to process being replaced timed-out after 5 seconds\n"
     ]
    },
    {
     "name": "stdout",
     "output_type": "stream",
     "text": [
      "Collecting en-core-web-lg==3.8.0\n",
      "  Downloading https://github.com/explosion/spacy-models/releases/download/en_core_web_lg-3.8.0/en_core_web_lg-3.8.0-py3-none-any.whl (400.7 MB)\n",
      "\u001b[2K     \u001b[90m━━━━━━━━━━━━━━━━━━━━━━━━━━━━━━━━━━━━━━\u001b[0m \u001b[32m400.7/400.7 MB\u001b[0m \u001b[31m26.3 MB/s\u001b[0m eta \u001b[36m0:00:00\u001b[0m00:01\u001b[0m00:01\u001b[0m\n",
      "\u001b[?25hInstalling collected packages: en-core-web-lg\n",
      "Successfully installed en-core-web-lg-3.8.0\n",
      "\u001b[38;5;2m✔ Download and installation successful\u001b[0m\n",
      "You can now load the package via spacy.load('en_core_web_lg')\n",
      "0.46189069747924805\n",
      "0.6388207674026489\n"
     ]
    }
   ],
   "source": [
    "word1=\"amazing\"\n",
    "word2=\"terrible\"\n",
    "word3=\"excellent\"\n",
    "\n",
    "import spacy\n",
    "!python -m spacy download en_core_web_lg\n",
    "nlp=spacy.load('en_core_web_lg')\n",
    "token1=nlp(word1)\n",
    "token2=nlp(word2)\n",
    "token3=nlp(word3)\n",
    "\n",
    "print(token1.similarity(token2))\n",
    "print(token1.similarity(token3))"
   ]
  },
  {
   "cell_type": "markdown",
   "metadata": {},
   "source": [
    "19. How to find similarity between two documents?\n",
    "Difficulty Level : L2\n",
    "\n",
    "Q. Find the similarity between any two text documents\n",
    "\n",
    "Input :\n",
    "text1=\"John lives in Canada\"\n",
    "text2=\"James lives in America, though he's not from there\"\n",
    "\n",
    "Desired Output :\n",
    " 0.792817083631068"
   ]
  },
  {
   "cell_type": "code",
   "execution_count": 15,
   "metadata": {},
   "outputs": [
    {
     "data": {
      "text/plain": [
       "0.7928170561790466"
      ]
     },
     "execution_count": 15,
     "metadata": {},
     "output_type": "execute_result"
    }
   ],
   "source": [
    "text1=\"John lives in Canada\"\n",
    "text2=\"James lives in America, though he's not from there\"\n",
    "\n",
    "doc1=nlp(text1)\n",
    "doc2=nlp(text2)\n",
    "doc1.similarity(doc2)"
   ]
  },
  {
   "cell_type": "markdown",
   "metadata": {},
   "source": [
    "20. How to find the cosine similarity of two documents?\n",
    "Difficulty Level : L3\n",
    "\n",
    "Q. Find the cosine similarity between two given documents\n",
    "\n",
    "Input\n",
    "text1='Taj Mahal is a tourist place in India'\n",
    "text2='Great Wall of China is a tourist place in china'\n",
    "\n",
    "Desired Output :\n",
    "[[1.         0.45584231]\n",
    " [0.45584231 1.        ]]"
   ]
  },
  {
   "cell_type": "code",
   "execution_count": 19,
   "metadata": {},
   "outputs": [
    {
     "name": "stdout",
     "output_type": "stream",
     "text": [
      "[[1.         0.45584231]\n",
      " [0.45584231 1.        ]]\n"
     ]
    }
   ],
   "source": [
    "text1='Taj Mahal is a tourist place in India'\n",
    "text2='Great Wall of China is a tourist place in china'\n",
    "\n",
    "from sklearn.feature_extraction.text import CountVectorizer\n",
    "from sklearn.metrics.pairwise import cosine_similarity\n",
    "\n",
    "# Create the Document Term Matrix\n",
    "tfidf_vectorizer = CountVectorizer()\n",
    "tfidf_matrix = tfidf_vectorizer.fit_transform([text1, text2])\n",
    "\n",
    "# Compute the cosine similarity\n",
    "cosine_sim = cosine_similarity(tfidf_matrix, tfidf_matrix)\n",
    "print(cosine_sim)"
   ]
  },
  {
   "cell_type": "markdown",
   "metadata": {},
   "source": [
    "21. How to find soft cosine similarity of documents ?\n",
    "Difficulty Level : L3\n",
    "\n",
    "Q. Compute the soft cosine similarity of the given documents\n",
    "\n",
    "\n",
    "Hint: [Soft Cosine Similarity](https://www.machinelearningplus.com/nlp/nlp-exercises/#:~:text=Hint%3A-,Soft%20Cosine%20Similarity,-Input%20%3A)\n",
    "\n",
    "Input :\n",
    "\n",
    "doc_soup = \"Soup is a primarily liquid food, generally served warm or hot (but may be cool or cold), that is made by combining ingredients of meat or vegetables with stock, juice, water, or another liquid. \"\n",
    "\n",
    "doc_noodles = \"Noodles are a staple food in many cultures. They are made from unleavened dough which is stretched, extruded, or rolled flat and cut into one of a variety of shapes.\"\n",
    "\n",
    "doc_dosa = \"Dosa is a type of pancake from the Indian subcontinent, made from a fermented batter. It is somewhat similar to a crepe in appearance. Its main ingredients are rice and black gram.\"\n",
    "\n",
    "doc_trump = \"Mr. Trump became president after winning the political election. Though he lost the support of some republican friends, Trump is friends with President Putin\"\n",
    "\n",
    "doc_election = \"President Trump says Putin had no political interference is the election outcome. He says it was a witchhunt by political parties. He claimed President Putin is a friend who had nothing to do with the election\"\n",
    "\n",
    "doc_putin = \"Post elections, Vladimir Putin became President of Russia. President Putin had served as the Prime Minister earlier in his political career\"\n",
    "\n",
    "Desired Output :\n",
    "0.5842470477718544"
   ]
  },
  {
   "cell_type": "markdown",
   "metadata": {},
   "source": [
    "22. How to find similar words using pre-trained Word2Vec?\n",
    "Q. Find all similiar words to “amazing” using Google news Word2Vec.\n",
    "\n",
    "Desired Output:\n",
    "\n",
    "#> [('incredible', 0.90),\n",
    "#> ('awesome', 0.82),\n",
    "#> ('unbelievable', 0.82),\n",
    "#> ('fantastic', 0.77),\n",
    "#> ('phenomenal', 0.76),\n",
    "#> ('astounding', 0.73),\n",
    "#> ('wonderful', 0.72),\n",
    "#> ('unbelieveable', 0.71),\n",
    "#> ('remarkable', 0.70),\n",
    "#> ('marvelous', 0.70)]"
   ]
  },
  {
   "cell_type": "markdown",
   "metadata": {},
   "source": [
    "23. How to compute Word mover distance?\n",
    "Difficulty Level : L3\n",
    "\n",
    "Q. Compute the word mover distance between given two texts\n",
    "\n",
    "Input :\n",
    "sentence_orange = 'Oranges are my favorite fruit'\n",
    "sent=\"apples are not my favorite\"\n",
    "\n",
    "Desired Output :\n",
    " 5.378"
   ]
  },
  {
   "cell_type": "markdown",
   "metadata": {},
   "source": [
    "24. How to replace all the pronouns in a text with their respective object names\n",
    "Difficulty Level : L2\n",
    "\n",
    "Q. Replace the pronouns in below text by the respective object names\n",
    "\n",
    "Input :\n",
    "text=\" My sister has a dog and she loves him\"\n",
    "\n",
    "Desired Output :\n",
    "[My sister,she]\n",
    "[a dog ,him ]"
   ]
  },
  {
   "cell_type": "markdown",
   "metadata": {},
   "source": [
    "25. How to extract topic keywords using LSA?\n",
    "Difficulty Level : L3\n",
    "\n",
    "Q. Extract the topic keywords from the given texts using LSA(Latent Semantic Analysis )\n",
    "\n",
    "Input :\n",
    "texts= [\"\"\"It's all about travel. I travel a lot.  those who do not travel read only a page.” – said Saint Augustine. He was a great travel person. Travelling can teach you more than any university course. You learn about the culture of the country you visit. If you talk to locals, you will likely learn about their thinking, habits, traditions and history as well.If you travel, you will not only learn about foreign cultures, but about your own as well. You will notice the cultural differences, and will find out what makes your culture unique. After retrurning from a long journey, you will see your country with new eyes.\"\"\",\n",
    "        \"\"\" You can learn a lot about yourself through travelling. You can observe how you feel beeing far from your country. You will find out how you feel about your homeland.You should travel You will realise how you really feel about foreign people. You will find out how much you know/do not know about the world. You will be able to observe how you react in completely new situations. You will test your language, orientational and social skills. You will not be the same person after returning home.During travelling you will meet people that are very different from you. If you travel enough, you will learn to accept and appreciate these differences. Traveling makes you more open and accepting.\"\"\",\n",
    "        \"\"\"Some of my most cherished memories are from the times when I was travelling. If you travel, you can experience things that you could never experience at home. You may see beautiful places and landscapes that do not exist where you live. You may meet people that will change your life, and your thingking. You may try activities that you have never tried before.Travelling will inevitably make you more independent and confident. You will realise that you can cope with a lot of unexpected situations. You will realise that you can survive without all that help that is always available for you at home. You will likely find out that you are much stronger and braver than you have expected.\"\"\",\n",
    "        \"\"\"If you travel, you may learn a lot of useful things. These things can be anything from a new recepie, to a new, more effective solution to an ordinary problem or a new way of creating something.Even if you go to a country where they speak the same language as you, you may still learn some new words and expressions that are only used there. If you go to a country where they speak a different language, you will learn even more.\"\"\",\n",
    "        \"\"\"After arriving home from a long journey, a lot of travellers experience that they are much more motivated than they were before they left. During your trip you may learn things that you will want to try at home as well. You may want to test your new skills and knowledge. Your experiences will give you a lot of energy.During travelling you may experience the craziest, most exciting things, that will eventually become great stories that you can tell others. When you grow old and look back at your life and all your travel experiences, you will realise how much you have done in your life and your life was not in vain. It can provide you with happiness and satisfaction for the rest of your life.\"\"\",\n",
    "        \"\"\"The benefits of travel are not just a one-time thing: travel changes you physically and psychologically. Having little time or money isn't a valid excuse. You can travel for cheap very easily. If you have a full-time job and a family, you can still travel on the weekends or holidays, even with a baby. travel  more is likely to have a tremendous impact on your mental well-being, especially if you're no used to going out of your comfort zone. Trust me: travel more and your doctor will be happy. Be sure to get in touch with your physician, they might recommend some medication to accompany you in your travels, especially if you're heading to regions of the globe with potentially dangerous diseases.\"\"\",\n",
    "        \"\"\"Sure, you probably feel comfortable where you are, but that is just a fraction of the world! If you are a student, take advantage of programs such as Erasmus to get to know more people, experience and understand their culture. Dare traveling to regions you have a skeptical opinion about. I bet that you will change your mind and realize that everything is not so bad abroad.\"\"\",\n",
    "        \"\"\" So, travel makes you cherish life. Let's travel more . Share your travel diaries with us too\"\"\"\n",
    "        ]\n",
    "\n",
    "Desired Output :\n",
    "#> Topic 0: \n",
    "#> learn new life travelling country feel  \n",
    "#> Topic 1: \n",
    "#> life cherish diaries let share experience  \n",
    "#> Topic 2: \n",
    "#> feel know time people just regions  \n",
    "#> Topic 3: \n",
    "#> time especially cherish diaries let share  \n",
    "..(truncated).."
   ]
  },
  {
   "cell_type": "markdown",
   "metadata": {},
   "source": [
    "26. How to extract topic Keywords using LDA ?\n",
    "Difficulty Level : L3\n",
    "\n",
    "Q. Extract the the topics from the given texts with the help of LDA(Latent dirichlet algorithm)\n",
    "\n",
    "Input :\n",
    "texts= [\"\"\"It's all about travel. I travel a lot.  those who do not travel read only a page.” – said Saint Augustine. He was a great travel person. Travelling can teach you more than any university course. You learn about the culture of the country you visit. If you talk to locals, you will likely learn about their thinking, habits, traditions and history as well.If you travel, you will not only learn about foreign cultures, but about your own as well. You will notice the cultural differences, and will find out what makes your culture unique. After retrurning from a long journey, you will see your country with new eyes.\"\"\",\n",
    "        \"\"\" You can learn a lot about yourself through travelling. You can observe how you feel beeing far from your country. You will find out how you feel about your homeland.You should travel You will realise how you really feel about foreign people. You will find out how much you know/do not know about the world. You will be able to observe how you react in completely new situations. You will test your language, orientational and social skills. You will not be the same person after returning home.During travelling you will meet people that are very different from you. If you travel enough, you will learn to accept and appreciate these differences. Traveling makes you more open and accepting.\"\"\",\n",
    "        \"\"\"Some of my most cherished memories are from the times when I was travelling. If you travel, you can experience things that you could never experience at home. You may see beautiful places and landscapes that do not exist where you live. You may meet people that will change your life, and your thingking. You may try activities that you have never tried before.Travelling will inevitably make you more independent and confident. You will realise that you can cope with a lot of unexpected situations. You will realise that you can survive without all that help that is always available for you at home. You will likely find out that you are much stronger and braver than you have expected.\"\"\",\n",
    "        \"\"\"If you travel, you may learn a lot of useful things. These things can be anything from a new recepie, to a new, more effective solution to an ordinary problem or a new way of creating something.Even if you go to a country where they speak the same language as you, you may still learn some new words and expressions that are only used there. If you go to a country where they speak a different language, you will learn even more.\"\"\",\n",
    "        \"\"\"After arriving home from a long journey, a lot of travellers experience that they are much more motivated than they were before they left. During your trip you may learn things that you will want to try at home as well. You may want to test your new skills and knowledge. Your experiences will give you a lot of energy.During travelling you may experience the craziest, most exciting things, that will eventually become great stories that you can tell others. When you grow old and look back at your life and all your travel experiences, you will realise how much you have done in your life and your life was not in vain. It can provide you with happiness and satisfaction for the rest of your life.\"\"\",\n",
    "        \"\"\"The benefits of travel are not just a one-time thing: travel changes you physically and psychologically. Having little time or money isn't a valid excuse. You can travel for cheap very easily. If you have a full-time job and a family, you can still travel on the weekends or holidays, even with a baby. travel  more is likely to have a tremendous impact on your mental well-being, especially if you're no used to going out of your comfort zone. Trust me: travel more and your doctor will be happy. Be sure to get in touch with your physician, they might recommend some medication to accompany you in your travels, especially if you're heading to regions of the globe with potentially dangerous diseases.\"\"\",\n",
    "        \"\"\"Sure, you probably feel comfortable where you are, but that is just a fraction of the world! If you are a student, take advantage of programs such as Erasmus to get to know more people, experience and understand their culture. Dare traveling to regions you have a skeptical opinion about. I bet that you will change your mind and realize that everything is not so bad abroad.\"\"\",\n",
    "        \"\"\" So, travel makes you cherish life. Let's travel more . Share your travel diaries with us too\"\"\"\n",
    "        ]\n",
    "\n",
    "Desired Output :\n",
    "[(0, '0.068*\"travel\" + 0.044*\"learn\" + 0.027*\"country\" + 0.027*\"If\" + 0.026*\"find\"'), (1, '0.054*\"may\" + 0.036*\"realise\" + 0.036*\"home\" + 0.036*\"experience\" + 0.036*\"never\"'), (2, '0.047*\"may\" + 0.044*\"life\" + 0.039*\"new\" + 0.036*\"things\" + 0.032*\"learn\"'), (3, '0.031*\"If\" + 0.031*\"people\" + 0.031*\"I\" + 0.031*\"world\" + 0.031*\"know\"'), (4, '0.085*\"travel\" + 0.042*\"\\'\" + 0.042*\"-\" + 0.042*\"time\" + 0.028*\"especially\"')]\n",
    "\n",
    "\n",
    "To understand more about how LDA works , check out our https://www.machinelearningplus.com/nlp/topic-modeling-gensim-python/ ."
   ]
  },
  {
   "cell_type": "markdown",
   "metadata": {},
   "source": [
    "27. How to extract topic keywords using NMF?\n",
    "Difficulty Level : L3\n",
    "\n",
    "Q. Extract the the topics from the given texts with the help of NMF(Non-negative Matrix Factorization method)\n",
    "\n",
    "Input :\n",
    "texts= [\"\"\"It's all about travel. I travel a lot.  those who do not travel read only a page.” – said Saint Augustine. He was a great travel person. Travelling can teach you more than any university course. You learn about the culture of the country you visit. If you talk to locals, you will likely learn about their thinking, habits, traditions and history as well.If you travel, you will not only learn about foreign cultures, but about your own as well. You will notice the cultural differences, and will find out what makes your culture unique. After retrurning from a long journey, you will see your country with new eyes.\"\"\",\n",
    "        \"\"\" You can learn a lot about yourself through travelling. You can observe how you feel beeing far from your country. You will find out how you feel about your homeland.You should travel You will realise how you really feel about foreign people. You will find out how much you know/do not know about the world. You will be able to observe how you react in completely new situations. You will test your language, orientational and social skills. You will not be the same person after returning home.During travelling you will meet people that are very different from you. If you travel enough, you will learn to accept and appreciate these differences. Traveling makes you more open and accepting.\"\"\",\n",
    "        \"\"\"Some of my most cherished memories are from the times when I was travelling. If you travel, you can experience things that you could never experience at home. You may see beautiful places and landscapes that do not exist where you live. You may meet people that will change your life, and your thingking. You may try activities that you have never tried before.Travelling will inevitably make you more independent and confident. You will realise that you can cope with a lot of unexpected situations. You will realise that you can survive without all that help that is always available for you at home. You will likely find out that you are much stronger and braver than you have expected.\"\"\",\n",
    "        \"\"\"If you travel, you may learn a lot of useful things. These things can be anything from a new recepie, to a new, more effective solution to an ordinary problem or a new way of creating something.Even if you go to a country where they speak the same language as you, you may still learn some new words and expressions that are only used there. If you go to a country where they speak a different language, you will learn even more.\"\"\",\n",
    "        \"\"\"After arriving home from a long journey, a lot of travellers experience that they are much more motivated than they were before they left. During your trip you may learn things that you will want to try at home as well. You may want to test your new skills and knowledge. Your experiences will give you a lot of energy.During travelling you may experience the craziest, most exciting things, that will eventually become great stories that you can tell others. When you grow old and look back at your life and all your travel experiences, you will realise how much you have done in your life and your life was not in vain. It can provide you with happiness and satisfaction for the rest of your life.\"\"\",\n",
    "        \"\"\"The benefits of travel are not just a one-time thing: travel changes you physically and psychologically. Having little time or money isn't a valid excuse. You can travel for cheap very easily. If you have a full-time job and a family, you can still travel on the weekends or holidays, even with a baby. travel  more is likely to have a tremendous impact on your mental well-being, especially if you're no used to going out of your comfort zone. Trust me: travel more and your doctor will be happy. Be sure to get in touch with your physician, they might recommend some medication to accompany you in your travels, especially if you're heading to regions of the globe with potentially dangerous diseases.\"\"\",\n",
    "        \"\"\"Sure, you probably feel comfortable where you are, but that is just a fraction of the world! If you are a student, take advantage of programs such as Erasmus to get to know more people, experience and understand their culture. Dare traveling to regions you have a skeptical opinion about. I bet that you will change your mind and realize that everything is not so bad abroad.\"\"\",\n",
    "        \"\"\" So, travel makes you cherish life. Let's travel more . Share your travel diaries with us too\"\"\"\n",
    "        ]\n",
    "  \n",
    "Desired Output:\n",
    " Topic 0:\n",
    " [('new', 0.6329770846997606), ('learn', 0.49810389825931783), ('speak', 0.47477546214544547), ('language', 0.43443029670471806), ('country', 0.36653909845383115), ('things', 0.3433223730439043)]\n",
    " Topic 1:\n",
    " [('life', 0.34063551920788737), ('home', 0.31402014643240667), ('experience', 0.3025841622571281), ('realise', 0.24642870225288288), ('travelling', 0.2180915553025073), ('things', 0.2076347895889257)]\n",
    " Topic 2:\n",
    " [('feel', 0.3462484013922396), ('know', 0.28400088182008115), ('people', 0.2431266883545085), ('world', 0.22169277349692076), ('traveling', 0.22169277349692076), ('bet', 0.18671974365540467)]\n",
    "...(truncated)"
   ]
  },
  {
   "cell_type": "markdown",
   "metadata": {},
   "source": [
    "28. How to classify a text as positive/negative sentiment\n",
    "Difficulty Level : L2\n",
    "\n",
    "Q. Detect if a text is positive or negative sentiment\n",
    "\n",
    "Input :\n",
    "text=\"It was a very pleasant day\"\n",
    "\n",
    "Desired Output:\n",
    " Sentiment(polarity=0.9533333333333333, subjectivity=1.0)\n",
    "Positive"
   ]
  },
  {
   "cell_type": "markdown",
   "metadata": {},
   "source": [
    "29. How to use the Word2Vec model for representing words?\n",
    "Difficulty Level : L2\n",
    "\n",
    "Q. Extract the word vector representation of the word using word2vec model\n",
    "\n",
    "Input :\n",
    "texts= [\" Photography is an excellent hobby to pursue \",\n",
    "        \" Photographers usually develop patience, calmnesss\"\n",
    "        \" You can try Photography with any good mobile too\"]\n",
    "\n",
    "Desired Output:\n",
    " array([ 2.94046826e-03, -1.31368915e-05, -3.43682081e-03, -3.73885059e-03,\n",
    "        2.49790819e-03, -1.23431312e-03, -9.60227044e-04,  2.31345627e-03,\n",
    "       -4.97973803e-03,  2.09524506e-03,  2.00997619e-03, -4.10459843e-03,\n",
    "        8.42132606e-04, -2.70003616e-03,  3.12150107e-03,  1.23607670e-03,\n",
    "        2.16376456e-03,  5.02903073e-04, -3.72780557e-03,  4.35266597e-03,\n",
    "       -1.80016900e-03,  3.42973252e-03, -2.12087762e-03,  1.14531387e-04,\n",
    "        3.03449039e-03, -8.75897415e-04, -3.50620854e-03,  5.10322629e-03,\n",
    "        ...(truncated)\n",
    "Positive"
   ]
  },
  {
   "cell_type": "markdown",
   "metadata": {},
   "source": [
    "30. How to visualize the word embedding obtained from word2Vec model ?\n",
    "Difficulty Level : L4\n",
    "\n",
    "Q. Implement Word embedding on the given texts and visualize it\n",
    "\n",
    "texts= [\" Photography is an excellent hobby to pursue \",\n",
    "        \" Photographers usually develop patience, calmnesss\"\n",
    "        \" You can try Photography with any good mobile too\"]"
   ]
  },
  {
   "cell_type": "markdown",
   "metadata": {},
   "source": [
    "31. How to represent the document using Doc2Vec model?\n",
    "Difficulty Level : L2\n",
    "\n",
    "Q. Represent a text document in the form a vector\n",
    "\n",
    "Input :\n",
    "\n",
    "texts= [\" Photography is an excellent hobby to pursue \",\n",
    "        \" Photographers usually develop patience, calmnesss\"\n",
    "        \" You can try Photography with any good mobile too\"]\n",
    "Desired Output:\n",
    "\n",
    "array([ 2.6586275e-03,  3.2867077e-03, -2.0473711e-03,  6.0251489e-04,\n",
    "       -1.5340233e-03,  1.5060971e-03,  1.0988972e-03,  1.0712545e-03,\n",
    "       -4.3745534e-03, -4.0448168e-03, -1.8953394e-04, -2.0953947e-04,\n",
    "       -3.3285557e-03,  1.0409033e-03, -8.5728493e-04,  4.5999791e-03,\n",
    "        ...(truncated)..\n",
    " \n",
    "\n",
    "Show Solution\n",
    "\n",
    "32. How to extract the TF-IDF Matrix ?\n",
    "Difficulty Level : L3\n",
    "\n",
    "Q. Extract the TF-IDF (Term Frequency -Inverse Document Frequency) Matrix for the given list of text documents\n",
    "\n",
    "Input :\n",
    "\n",
    "text_documents=['Painting is a hobby for many , passion for some',\n",
    "                'My hobby is coin collection'\n",
    "                'I do some Painting every now and then']\n",
    "Desired Output:\n",
    "\n",
    " \n",
    "(0, 13)\t0.2511643891128359\n",
    "(0, 12)\t0.35300278529739293\n",
    "(0, 8)\t0.35300278529739293\n",
    "(0, 5)\t0.7060055705947859\n",
    "(0, 6)\t0.2511643891128359\n",
    "(0, 7)\t0.2511643891128359\n",
    "...(truncated)..\n",
    "\n",
    "Show Solution\n",
    "\n",
    "33. How to create bigrams using Gensim’s Phraser ?\n",
    "Difficulty Level : L3\n",
    "\n",
    "Q. Create bigrams from the given texts using Gensim library’s Phrases\n",
    "\n",
    "Input :\n",
    "\n",
    "documents = [\"the mayor of new york was there\", \"new york mayor was present\"]\n",
    "Desired Output:\n",
    "\n",
    " ['the', 'mayor', 'of', 'new york', 'was', 'there']\n",
    "['new york', 'mayor', 'was', 'present']\n",
    "\n",
    "Show Solution\n",
    "\n",
    "\n",
    "\n",
    "34. How to create bigrams, trigrams using ngrams ?\n",
    "Difficulty Level : L3\n",
    "\n",
    "Q. Extract all bigrams , trigrams using ngrams of nltk library\n",
    "\n",
    "\n",
    "Input :\n",
    "\n",
    "\n",
    "Sentences=\"Machine learning is a neccessary field in today's world. Data science can do wonders . Natural Language Processing is how machines understand text \"\n",
    "Desired Output:\n",
    "\n",
    "Bigrams are [('machine', 'learning'), ('learning', 'is'), ('is', 'a'), ('a', 'neccessary'), ('neccessary', 'field'), ('field', 'in'), ('in', \"today's\"), (\"today's\", 'world.'), ('world.', 'data'), ('data', 'science'), ('science', 'can'), ('can', 'do'), ('do', 'wonders'), ('wonders', '.'), ('.', 'natural'), ('natural', 'language'), ('language', 'processing'), ('processing', 'is'), ('is', 'how'), ('how', 'machines'), ('machines', 'understand'), ('understand', 'text')]\n",
    " Trigrams are [('machine', 'learning', 'is'), ('learning', 'is', 'a'), ('is', 'a', 'neccessary'), ('a', 'neccessary', 'field'), ('neccessary', 'field', 'in'), ('field', 'in', \"today's\"), ('in', \"today's\", 'world.'), (\"today's\", 'world.', 'data'), ('world.', 'data', 'science'), ('data', 'science', 'can'), ('science', 'can', 'do'), ('can', 'do', 'wonders'), ('do', 'wonders', '.'), ('wonders', '.', 'natural'), ('.', 'natural', 'language'), ('natural', 'language', 'processing'), ('language', 'processing', 'is'), ('processing', 'is', 'how'), ('is', 'how', 'machines'), ('how', 'machines', 'understand'), ('machines', 'understand', 'text')]\n",
    "\n",
    "Show Solution\n",
    "\n",
    "\n",
    "\n",
    "35. How to detect the language of entered text ?\n",
    "Difficulty Level : L1\n",
    "\n",
    "Q. Find out the language of the given text\n",
    "\n",
    "\n",
    "Input :\n",
    "\n",
    "\n",
    "text=\"El agente imprime su pase de abordaje. Los oficiales de seguridad del aeropuerto pasan junto a él con un perro grande. El perro está olfateando alrededor del equipaje de las personas tratando de detectar drogas o explosivos.\"\n",
    "Desired Output:\n",
    "\n",
    "{'language': 'es', 'score': 0.9999963653206719}\n",
    " El agente imprime su pase de abordaje. {'language': 'es', 'score': 0.9999969081229643} \n",
    "\n",
    "Show Solution\n",
    "\n",
    "36. How to merge two tokens as one ?\n",
    "Difficulty Level : L3\n",
    "\n",
    "Q. Merge the first name and last name as single token in the given sentence\n",
    "\n",
    "Input:\n",
    "\n",
    "text=\"Robert Langdon is a famous character in various books and movies \"\n",
    "Desired Output:\n",
    "\n",
    "\n",
    "Robert Langdon\n",
    "is\n",
    "a\n",
    "famous\n",
    "character\n",
    "in\n",
    "various\n",
    "books\n",
    "and\n",
    "movies\n",
    "\n",
    "Show Solution\n",
    "\n",
    "37. How to extract Noun phrases from a text ?\n",
    "Difficulty Level : L2\n",
    "\n",
    "Q. Extract and print the noun phrases in given text document\n",
    "\n",
    "Input:\n",
    "\n",
    "text=\"There is a empty house on the Elm Street\"\n",
    "Expected Output :\n",
    "\n",
    "[a empty house, the Elm Street]\n",
    "\n",
    "Show Solution\n",
    "\n",
    "38. How to extract Verb phrases from the text ?\n",
    "Difficulty Level : L3\n",
    "\n",
    "Q. Extract the Verb Phrases from the given text\n",
    "\n",
    "Input :\n",
    "\n",
    "text=(\"I may bake a cake for my birthday. The talk will introduce reader about Use of baking\")\n",
    "Desired Output:\n",
    "\n",
    " may bake\n",
    "will introduce\n",
    "\n",
    "\n",
    "Show Solution\n",
    "\n",
    "39. How to extract first name and last names present in the document ?\n",
    "Difficulty Level : L3\n",
    "\n",
    "Q. Extract any two consecutive Proper Nouns that occour in the text document\n",
    "\n",
    "Input :\n",
    "\n",
    "text=\"Sherlock Holmes and Clint Thomas were good friends. I am a fan of John Mark\"\n",
    "Desired Output:\n",
    "\n",
    " Sherlock Holmes\n",
    " Clint Thomas\n",
    " John Mark\n",
    "\n",
    "Show Solution\n",
    "\n",
    "40. How to identify named entities in the given text\n",
    "Difficulty Level : L2\n",
    "\n",
    "Q. Identify and print all the named entities with their labels in the below text\n",
    "\n",
    "Input\n",
    "\n",
    "text=\" Walter works at Google. He lives in London.\"\n",
    "Desired Output:\n",
    "\n",
    " Walter PERSON\n",
    " Google ORG\n",
    " London GPE\n",
    "\n",
    "\n",
    "Show Solution\n",
    "\n",
    "41. How to identify all the names of Organizations present in the text with NER ?\n",
    "Difficulty Level : L2\n",
    "\n",
    "Q. Identify and extract a list of all organizations/Companies mentioned in the given news article\n",
    "\n",
    "Input :\n",
    "\n",
    "text =\" Google has released it's new model which has got attention of everyone. Amazon is planning to expand into Food delivery, thereby giving competition . Apple is coming up with new iphone model. Flipkart will have to catch up soon.\"\n",
    "Expected Solution\n",
    "\n",
    " ['Google', 'Amazon', 'Apple', 'Flipkart']\n",
    "\n",
    "Show Solution\n",
    "\n",
    "42. How to replace all names of people in the text with ‘UNKNOWN’\n",
    "Difficulty Level : L3\n",
    "\n",
    "Q. Identify and replace all the person names in the news article with UNKNOWN to keep privacy\n",
    "Input :\n",
    "\n",
    "news=\" Walter was arrested yesterday at Brooklyn for murder. The suspicions and fingerprints pointed to Walter  and his friend  Pinkman . The arrest was made by inspector Hank\"\n",
    "Desired Output :\n",
    "\n",
    "'  UNKNOWN was arrested yesterday at Brooklyn for murder . The suspicions and fingerprints pointed to UNKNOWN   and his friend   UNKNOWN . The arrest was made by inspector UNKNOWN'\n",
    "\n",
    "Show Solution\n",
    "\n",
    "43. How to visualize the named entities using spaCy\n",
    "Difficulty Level : L2\n",
    "\n",
    "Q. Display the named entities prsent in the given document along with their categories using spacy\n",
    "\n",
    "Input :\n",
    "\n",
    "text=\" Walter was arrested yesterday at Brooklyn for murder. The suspicions and fingerprints pointed to Walter  and his friend  Pinkman . He is from Paris \"\n",
    "\n",
    "Show Solution\n",
    "\n",
    "44. How to implement dependency parsing ?\n",
    "Difficulty Level : L2\n",
    "\n",
    "Q. Find the dependencies of all the words in the given text\n",
    "\n",
    "Input :\n",
    "\n",
    "text=\"Mark plays volleyball every evening.\"\n",
    "Desired Output :\n",
    "\n",
    " Mark nsubj\n",
    " plays ROOT\n",
    " volleyball dobj\n",
    " every det\n",
    " evening npadvmod\n",
    " . punct\n",
    "\n",
    "Show Solution\n",
    "\n",
    "45. How to find the ROOT word of any word in a sentence?\n",
    "Difficulty Level : L3\n",
    "\n",
    "Q. Find and print the root word / headword of any word in the given sentence\n",
    "\n",
    "Input :\n",
    "\n",
    "text=\"Mark plays volleyball. Sam is not into sports, he paints a lot\"\n",
    "Desired Output :\n",
    "\n",
    " Mark plays\n",
    " plays plays\n",
    " volleyball plays\n",
    " . plays\n",
    " Sam is\n",
    " is paints\n",
    " not is\n",
    " into is\n",
    " sports into\n",
    " , paints\n",
    " he paints\n",
    " paints paints\n",
    " a lot\n",
    " lot paints\n",
    "\n",
    "Show Solution\n",
    "\n",
    "46. How to visualize the dependency tree in spaCy\n",
    "Difficulty Level : L2\n",
    "\n",
    "Q. Visualize the dependencies of various tokens of the given text using spaCy\n",
    "\n",
    "Input :\n",
    "\n",
    "text=\"Mark plays volleyball. Sam is not into sports, he paints a lot\"\n",
    "\n",
    "Show Solution\n",
    "\n",
    "47. How to detect all the Laptop names present in the text ?\n",
    "Difficulty Level : L4\n",
    "\n",
    "Q. Detect all the Laptop names present in the given  document .\n",
    "\n",
    "Input :\n",
    "\n",
    "text=\"For my offical use, I prefer lenova. For gaming purposes, I love asus\"\n",
    "Expected Output\n",
    "\n",
    "lenova laptop\n",
    "asus laptop\n",
    "\n",
    "Show Solution\n",
    "\n",
    "48. How to summarize text using gensim ?\n",
    "Difficulty Level : L3\n",
    "\n",
    "Q. Extract the summary of the given text based using gensim package based on the TextRank Algorithm.\n",
    "\n",
    "Input :\n",
    "\n",
    "original_text=\"\"\"Studies show that exercise can treat mild to moderate depression as effectively as antidepressant medication—but without the side-effects, of course. As one example, a recent study done by the Harvard T.H. Chan School of Public Health found that running for 15 minutes a day or walking for an hour reduces the risk of major depression by 26%. In addition to relieving depression symptoms, research also shows that maintaining an exercise schedule can prevent you from relapsing.\n",
    "Exercise is a powerful depression fighter for several reasons. Most importantly, it promotes all kinds of changes in the brain, including neural growth, reduced inflammation, and new activity patterns that promote feelings of calm and well-being. It also releases endorphins, powerful chemicals in your brain that energize your spirits and make you feel good. Finally, exercise can also serve as a distraction, allowing you to find some quiet time to break out of the cycle of negative thoughts that feed depression.\n",
    "Exercise is not just about aerobic capacity and muscle size. Sure, exercise can improve your physical health and your physique, trim your waistline, improve your sex life, and even add years to your life. But that’s not what motivates most people to stay active.\n",
    "People who exercise regularly tend to do so because it gives them an enormous sense of well-being. They feel more energetic throughout the day, sleep better at night, have sharper memories, and feel more relaxed and positive about themselves and their lives. And it’s also powerful medicine for many common mental health challenges.\n",
    "Regular exercise can have a profoundly positive impact on depression, anxiety, ADHD, and more. It also relieves stress, improves memory, helps you sleep better, and boosts your overall mood. And you don’t have to be a fitness fanatic to reap the benefits. Research indicates that modest amounts of exercise can make a difference. No matter your age or fitness level, you can learn to use exercise as a powerful tool to feel better.\n",
    "Ever noticed how your body feels when you’re under stress? Your muscles may be tense, especially in your face, neck, and shoulders, leaving you with back or neck pain, or painful headaches. You may feel a tightness in your chest, a pounding pulse, or muscle cramps. You may also experience problems such as insomnia, heartburn, stomachache, diarrhea, or frequent urination. The worry and discomfort of all these physical symptoms can in turn lead to even more stress, creating a vicious cycle between your mind and body.\n",
    "Exercising is an effective way to break this cycle. As well as releasing endorphins in the brain, physical activity helps to relax the muscles and relieve tension in the body. Since the body and mind are so closely linked, when your body feels better so, too, will your mind.Evidence suggests that by really focusing on your body and how it feels as you exercise, you can actually help your nervous system become “unstuck” and begin to move out of the immobilization stress response that characterizes PTSD or trauma. \n",
    "Instead of allowing your mind to wander, pay close attention to the physical sensations in your joints and muscles, even your insides as your body moves. Exercises that involve cross movement and that engage both arms and legs—such as walking (especially in sand), running, swimming, weight training, or dancing—are some of your best choices.\n",
    "Outdoor activities like hiking, sailing, mountain biking, rock climbing, whitewater rafting, and skiing (downhill and cross-country) have also been shown to reduce the symptoms of PTSD.\"\"\"\n",
    "Desired Output :\n",
    "\n",
    " As one example, a recent study done by the Harvard T.H. Chan School of Public Health found that running for 15 minutes a day or walking for an hour reduces the risk of major depression by 26%.\n",
    " No matter your age or fitness level, you can learn to use exercise as a powerful tool to feel better.\n",
    " The worry and discomfort of all these physical symptoms can in turn lead to even more stress, creating a vicious cycle between your mind and body.\n",
    " As well as releasing endorphins in the brain, physical activity helps to relax the muscles and relieve tension in the body.\n",
    "\n",
    "Show Solution\n",
    "\n",
    "49. How to summarize text based on the LexRank algorithm ?\n",
    "Difficulty Level : L3\n",
    "\n",
    "Q. Extract the summary of the given text based on the TextRank Algorithm.\n",
    "\n",
    "Input :\n",
    "\n",
    "original_text=\"\"\"Studies show that exercise can treat mild to moderate depression as effectively as antidepressant medication—but without the side-effects, of course. As one example, a recent study done by the Harvard T.H. Chan School of Public Health found that running for 15 minutes a day or walking for an hour reduces the risk of major depression by 26%. In addition to relieving depression symptoms, research also shows that maintaining an exercise schedule can prevent you from relapsing.\n",
    "Exercise is a powerful depression fighter for several reasons. Most importantly, it promotes all kinds of changes in the brain, including neural growth, reduced inflammation, and new activity patterns that promote feelings of calm and well-being. It also releases endorphins, powerful chemicals in your brain that energize your spirits and make you feel good. Finally, exercise can also serve as a distraction, allowing you to find some quiet time to break out of the cycle of negative thoughts that feed depression.\n",
    "Exercise is not just about aerobic capacity and muscle size. Sure, exercise can improve your physical health and your physique, trim your waistline, improve your sex life, and even add years to your life. But that’s not what motivates most people to stay active.\n",
    "People who exercise regularly tend to do so because it gives them an enormous sense of well-being. They feel more energetic throughout the day, sleep better at night, have sharper memories, and feel more relaxed and positive about themselves and their lives. And it’s also powerful medicine for many common mental health challenges.\n",
    "Regular exercise can have a profoundly positive impact on depression, anxiety, ADHD, and more. It also relieves stress, improves memory, helps you sleep better, and boosts your overall mood. And you don’t have to be a fitness fanatic to reap the benefits. Research indicates that modest amounts of exercise can make a difference. No matter your age or fitness level, you can learn to use exercise as a powerful tool to feel better.\n",
    "Ever noticed how your body feels when you’re under stress? Your muscles may be tense, especially in your face, neck, and shoulders, leaving you with back or neck pain, or painful headaches. You may feel a tightness in your chest, a pounding pulse, or muscle cramps. You may also experience problems such as insomnia, heartburn, stomachache, diarrhea, or frequent urination. The worry and discomfort of all these physical symptoms can in turn lead to even more stress, creating a vicious cycle between your mind and body.\n",
    "Exercising is an effective way to break this cycle. As well as releasing endorphins in the brain, physical activity helps to relax the muscles and relieve tension in the body. Since the body and mind are so closely linked, when your body feels better so, too, will your mind.Evidence suggests that by really focusing on your body and how it feels as you exercise, you can actually help your nervous system become “unstuck” and begin to move out of the immobilization stress response that characterizes PTSD or trauma. \n",
    "Instead of allowing your mind to wander, pay close attention to the physical sensations in your joints and muscles, even your insides as your body moves. Exercises that involve cross movement and that engage both arms and legs—such as walking (especially in sand), running, swimming, weight training, or dancing—are some of your best choices.\n",
    "Outdoor activities like hiking, sailing, mountain biking, rock climbing, whitewater rafting, and skiing (downhill and cross-country) have also been shown to reduce the symptoms of PTSD.\"\"\"\n",
    "Desired Output :\n",
    "\n",
    " Since the body and mind are so closely linked, when your body feels better so, too, will your mind.Evidence suggests that by really focusing on your body and how it feels as you exercise, you can actually help your nervous system become “unstuck” and begin to move out of the immobilization stress response that characterizes PTSD or trauma.>, <Sentence: Instead of allowing your mind to wander, pay close attention to the physical sensations in your joints and muscles, even your insides as your body moves.\n",
    "\n",
    "\n",
    "Show Solution\n",
    "\n",
    "50. How to summarize text using Luhn algorithm?\n",
    "Q. Extract the summary of the given text based on the Luhn Algorithm.\n",
    "\n",
    "Difficulty Level : L3\n",
    "\n",
    "Input :\n",
    "\n",
    "original_text=\"\"\"Studies show that exercise can treat mild to moderate depression as effectively as antidepressant medication—but without the side-effects, of course. As one example, a recent study done by the Harvard T.H. Chan School of Public Health found that running for 15 minutes a day or walking for an hour reduces the risk of major depression by 26%. In addition to relieving depression symptoms, research also shows that maintaining an exercise schedule can prevent you from relapsing.\n",
    "Exercise is a powerful depression fighter for several reasons. Most importantly, it promotes all kinds of changes in the brain, including neural growth, reduced inflammation, and new activity patterns that promote feelings of calm and well-being. It also releases endorphins, powerful chemicals in your brain that energize your spirits and make you feel good. Finally, exercise can also serve as a distraction, allowing you to find some quiet time to break out of the cycle of negative thoughts that feed depression.\n",
    "Exercise is not just about aerobic capacity and muscle size. Sure, exercise can improve your physical health and your physique, trim your waistline, and even add years to your life. But that’s not what motivates most people to stay active.\n",
    "People who exercise regularly tend to do so because it gives them an enormous sense of well-being. They feel more energetic throughout the day, sleep better at night, have sharper memories, and feel more relaxed and positive about themselves and their lives. And it’s also powerful medicine for many common mental health challenges.\n",
    "Regular exercise can have a profoundly positive impact on depression, anxiety, ADHD, and more. It also relieves stress, improves memory, helps you sleep better, and boosts your overall mood. And you don’t have to be a fitness fanatic to reap the benefits. Research indicates that modest amounts of exercise can make a difference. No matter your age or fitness level, you can learn to use exercise as a powerful tool to feel better.\n",
    "Ever noticed how your body feels when you’re under stress? Your muscles may be tense, especially in your face, neck, and shoulders, leaving you with back or neck pain, or painful headaches. You may feel a tightness in your chest, a pounding pulse, or muscle cramps. You may also experience problems such as insomnia, heartburn, stomachache, diarrhea, or frequent urination. The worry and discomfort of all these physical symptoms can in turn lead to even more stress, creating a vicious cycle between your mind and body.\n",
    "Exercising is an effective way to break this cycle. As well as releasing endorphins in the brain, physical activity helps to relax the muscles and relieve tension in the body. Since the body and mind are so closely linked, when your body feels better so, too, will your mind.Evidence suggests that by really focusing on your body and how it feels as you exercise, you can actually help your nervous system become “unstuck” and begin to move out of the immobilization stress response that characterizes PTSD or trauma. \n",
    "Instead of allowing your mind to wander, pay close attention to the physical sensations in your joints and muscles, even your insides as your body moves. Exercises that involve cross movement and that engage both arms and legs—such as walking (especially in sand), running, swimming, weight training, or dancing—are some of your best choices.\n",
    "Outdoor activities like hiking, sailing, mountain biking, rock climbing, whitewater rafting, and skiing (downhill and cross-country) have also been shown to reduce the symptoms of PTSD.\"\"\"\n",
    "Desired Output :\n",
    "\n",
    "  Finally, exercise can also serve as a distraction, allowing you to find some quiet time to break out of the cycle of negative thoughts that feed depression.  Since the body and mind are so closely linked, when your body feels better so, too, will your mind.Evidence suggests that by really focusing on your body and how it feels as you exercise, you can actually help your nervous system become “unstuck” and begin to move out of the immobilization stress response that characterizes PTSD or trauma\n",
    "\n",
    "Show Solution\n",
    "\n",
    "51. How to summarize text based on LSA algorithm ?\n",
    "Difficulty Level : L3\n",
    "\n",
    "Q. Extract the summary of the given text based on the LSA Algorithm.\n",
    "\n",
    "Input :\n",
    "\n",
    "original_text=\"\"\"Studies show that exercise can treat mild to moderate depression as effectively as antidepressant medication—but without the side-effects, of course. As one example, a recent study done by the Harvard T.H. Chan School of Public Health found that running for 15 minutes a day or walking for an hour reduces the risk of major depression by 26%. In addition to relieving depression symptoms, research also shows that maintaining an exercise schedule can prevent you from relapsing.\n",
    "Exercise is a powerful depression fighter for several reasons. Most importantly, it promotes all kinds of changes in the brain, including neural growth, reduced inflammation, and new activity patterns that promote feelings of calm and well-being. It also releases endorphins, powerful chemicals in your brain that energize your spirits and make you feel good. Finally, exercise can also serve as a distraction, allowing you to find some quiet time to break out of the cycle of negative thoughts that feed depression.\n",
    "Exercise is not just about aerobic capacity and muscle size. Sure, exercise can improve your physical health and your physique, trim your waistline, and even add years to your life. But that’s not what motivates most people to stay active.\n",
    "People who exercise regularly tend to do so because it gives them an enormous sense of well-being. They feel more energetic throughout the day, sleep better at night, have sharper memories, and feel more relaxed and positive about themselves and their lives. And it’s also powerful medicine for many common mental health challenges.\n",
    "Regular exercise can have a profoundly positive impact on depression, anxiety, ADHD, and more. It also relieves stress, improves memory, helps you sleep better, and boosts your overall mood. And you don’t have to be a fitness fanatic to reap the benefits. Research indicates that modest amounts of exercise can make a difference. No matter your age or fitness level, you can learn to use exercise as a powerful tool to feel better.\n",
    "Ever noticed how your body feels when you’re under stress? Your muscles may be tense, especially in your face, neck, and shoulders, leaving you with back or neck pain, or painful headaches. You may feel a tightness in your chest, a pounding pulse, or muscle cramps. You may also experience problems such as insomnia, heartburn, stomachache, diarrhea, or frequent urination. The worry and discomfort of all these physical symptoms can in turn lead to even more stress, creating a vicious cycle between your mind and body.\n",
    "Exercising is an effective way to break this cycle. As well as releasing endorphins in the brain, physical activity helps to relax the muscles and relieve tension in the body. Since the body and mind are so closely linked, when your body feels better so, too, will your mind.Evidence suggests that by really focusing on your body and how it feels as you exercise, you can actually help your nervous system become “unstuck” and begin to move out of the immobilization stress response that characterizes PTSD or trauma. \n",
    "Instead of allowing your mind to wander, pay close attention to the physical sensations in your joints and muscles, even your insides as your body moves. Exercises that involve cross movement and that engage both arms and legs—such as walking (especially in sand), running, swimming, weight training, or dancing—are some of your best choices.\n",
    "Outdoor activities like hiking, sailing, mountain biking, rock climbing, whitewater rafting, and skiing (downhill and cross-country) have also been shown to reduce the symptoms of PTSD.\"\"\"\n",
    "Desired Output :\n",
    "\n",
    "In addition to relieving depression symptoms, research also shows that maintaining an exercise schedule can prevent you from relapsing. People who exercise regularly tend to do so because it gives them an enormous sense of well-being.\n",
    "\n",
    "Show Solution\n",
    "\n",
    "52. How to convert documents into json format ?\n",
    "Difficulty Level : L3\n",
    "\n",
    "Q. Covert the given text documents into json format for spacy usage\n",
    "\n",
    "Input:\n",
    "\n",
    "text1=\"Netflix has released a new series\"\n",
    "text2=\"It was shot in London\"\n",
    "text3=\"It is called Dark and the main character is Jonas\"\n",
    "text4=\"Adam is the evil character\"\n",
    "Desired Output :\n",
    "\n",
    "{'id': 0,\n",
    " 'paragraphs': [{'cats': [],\n",
    "   'raw': 'Netflix has released a new series',\n",
    "   'sentences': [{'brackets': [],\n",
    "     'tokens': [{'dep': 'nsubj',\n",
    "       'head': 2,\n",
    "       'id': 0,\n",
    "       'ner': 'U-ORG',\n",
    "       'orth': 'Netflix',\n",
    "       'tag': 'NNP'},\n",
    "      {'dep': 'aux',\n",
    "       'head': 1,\n",
    "       'id': 1,\n",
    "       'ner': 'O',\n",
    "       'orth': 'has',\n",
    "       'tag': 'VBZ'},\n",
    "      {'dep': 'ROOT',\n",
    "       'head': 0,\n",
    "       'id': 2,\n",
    "       'ner': 'O',\n",
    "       'orth': 'released',\n",
    "       'tag': 'VBN'},\n",
    "      {'dep': 'det', 'head': 2, 'id': 3, 'ner': 'O', 'orth': 'a', 'tag': 'DT'},\n",
    "      {'dep': 'amod',\n",
    "       'head': 1,\n",
    "       'id': 4,\n",
    "       'ner': 'O',\n",
    "       'orth': 'new',\n",
    "       'tag': 'JJ'},\n",
    "      {'dep': 'dobj',\n",
    "       'head': -3,\n",
    "       'id': 5,\n",
    "       'ner': 'O',\n",
    "       'orth': 'series',\n",
    "       'tag': 'NN'}]}]},\n",
    "    ...(truncated)\n",
    "\n",
    "\n",
    "Show Solution\n",
    "\n",
    "53. How to build a text classifier with TextBlob ?\n",
    "Difficulty Level : L3\n",
    "\n",
    "Q Build a text classifier with available train data using textblob library\n",
    "\n",
    "Input:\n",
    "\n",
    "# Data to train the classifier\n",
    "train = [\n",
    "    ('I love eating sushi','food-review'),\n",
    "    ('This is an amazing place!', 'Tourist-review'),\n",
    "    ('Pizza is my all time favorite food','food-review'),\n",
    "    ('I baked a cake yesterday, it was tasty', 'food-review'),\n",
    "    (\"What an awesome taste this sushi has\", 'food-review'),\n",
    "    ('It is a perfect place for outing', 'Tourist-review'),\n",
    "    ('This is a nice picnic spot', 'Tourist-review'),\n",
    "    (\"Families come out on tours here\", 'Tourist-review'),\n",
    "    ('It is a beautiful place !', 'Tourist-review'),\n",
    "    ('The place was warm and nice', 'Tourist-review')\n",
    "]\n",
    "test = [\n",
    "    ('The sushi was good', 'food-review'),\n",
    "    ('The place was perfect for picnics ', 'Tourist-review'),\n",
    "    (\"Burgers are my favorite food\", 'food-review'),\n",
    "    (\"I feel amazing!\", 'food-review'),\n",
    "    ('It is an amazing place', 'Tourist-review'),\n",
    "    (\"This isn't a very good place\", 'Tourist-review')\n",
    "]\n",
    "Desired Output :\n",
    "\n",
    " Accuracy: 0.8333333333333334\n",
    "\n",
    "Show Solution\n",
    "\n",
    "54. How to train a text classifier using Simple transformers ?\n",
    "Difficulty Level : L4\n",
    "\n",
    "Q. Build and train a text classifier for the given data using simpletransformers library\n",
    "\n",
    "Input :\n",
    "\n",
    "train_data = [\n",
    "    [\"The movie was amazing\", 1],\n",
    "    [\"It was a boring movie\", 0],\n",
    "    [\"I had a great experience\",1],\n",
    "    [\"I was bored during the movie\",0],\n",
    "    [\"The movie was great\",1],\n",
    "    [\"The movie was bad\",0],\n",
    "    [\"The movie was good\",1]\n",
    "]\n",
    "\n",
    "Show Solution\n",
    "\n",
    "55. How to perform text classification using spaCy ?\n",
    "Difficulty Level : L4\n",
    "\n",
    "Q. Build a text classifier using spacy that can classify IMDB reviews as positive or negative\n",
    "\n",
    "\n",
    "Show Solution\n",
    "\n",
    "56. How to translate the text (using simpletransformers) ?\n",
    "Difficulty Level : L3\n",
    "\n",
    "Q. Translate the given list of texts from English to Dutch using simpletransformers package\n",
    "\n",
    "Input :\n",
    "\n",
    "['Our experienced writers travel the world to bring you informative and inspirational features, destination roundups, travel ideas, tips and beautiful photos in order to help you plan your next holiday',\n",
    "                  'Each part of Germany is different, and there are thousands of memorable places to visit.',\n",
    "                  \"Christmas Markets originated in Germany, and the tradition dates to the Late Middle Ages.\",\n",
    "                  \"Garmisch-Partenkirchen is a small town in Bavaria, near Germany’s highest mountain Zugspitze, which rises to 9,718 feet (2,962 meters)\",\n",
    "                  \"It’s one of the country’s top alpine destinations, extremely popular during the winter\",\n",
    "                  \"In spring, take a road trip through Bavaria and enjoy the view of the dark green Alps and the first alpine wildflowers. \"]\n",
    "Desired Output :\n",
    "\n",
    "['Unsere erfahrenen Autoren reisen die Welt, um Ihnen informative und inspirierende Funktionen, Destination Rund',\n",
    "'Jeder Teil Deutschlands ist anders, und es gibt Tausende von denkwürdigen Orten zu besuchen.',\n",
    "'Weihnachtsmärkte entstanden in Deutschland, und die Tradition stammt aus dem späten Mittelalter.',\n",
    "'Garmisch-Partenkirchen ist eine kleine Stadt in Bayern, nahe Deutschland.Die Zug',\n",
    "'Es ist eines der Top-Alpenziele des Landes, sehr beliebt im Winter',\n",
    "'Im Frühjahr machen Sie eine Roadtrip durch Bayern und genießen den Blick auf die dunkelgrünen Alpen']\n",
    "\n",
    "\n",
    "Show Solution\n",
    "\n",
    "\n",
    "57. How to create a Question-Answering system from given context\n",
    "\n",
    "Difficulty Level : L4\n",
    "\n",
    "\n",
    "Q. Build a Question Answering model that answers questions from the given context using transformers package\n",
    "\n",
    "\n",
    "\n",
    "Input :\n",
    "\n",
    "\n",
    "\n",
    "context=\"\"\" Harry Potter is the best book series according to many people. Harry Potter was written by JK.Rowling .\n",
    "It is afantasy based novel that provides a thrilling experience to readers.\"\"\"\n",
    "\n",
    "question=\"What is Harry Potter ?\"\n",
    "\n",
    "Desired Output :\n",
    "\n",
    "\n",
    "{'score': 0.2375375191101107, 'start': 17, 'end': 37, 'answer': 'the best book series'}\n",
    "\n",
    "\n",
    "Show Solution\n",
    "\n",
    "\n",
    "58. How to do text generation starting from a given piece of text?\n",
    "\n",
    "Difficulty Level : L4\n",
    "\n",
    "\n",
    "Q. Generate text based on the the starting provided.\n",
    "\n",
    "\n",
    "\n",
    "Input :\n",
    "\n",
    "\n",
    "\n",
    "starting=\"It was a bright\"\n",
    "\n",
    "Desired Output :\n",
    "\n",
    "\n",
    "'It was a bright day in New Jersey\\'s capitol,\" the senator told a reporter after the rally. \"It\\'s a sunny day in New Hampshire, there\\'s a great deal of sunshine.'\n",
    "\n",
    "\n",
    "Show Solution\n",
    "\n",
    "\n",
    "59. How to classify a text as positive or negative sentiment with transformers?\n",
    "\n",
    "Difficulty Level : L4\n",
    "\n",
    "\n",
    "Q. Find out whether a given text is postive or negative sentiment along with score for predictions\n",
    "\n",
    "\n",
    "\n",
    "Input text:\n",
    "\n",
    "\n",
    "\n",
    "text1=\"It is a pleasant day, I am going for a walk\"\n",
    "text2=\"I have a terrible headache\"\n",
    "\n",
    "\n",
    "Desired Output :\n",
    "\n",
    "\n",
    "[{'label': 'POSITIVE', 'score': 0.9998570084571838}]\n",
    "[{'label': 'NEGATIVE', 'score': 0.9994378089904785}]"
   ]
  }
 ],
 "metadata": {
  "kernelspec": {
   "display_name": "nlp-exercise-WwCX1lUo",
   "language": "python",
   "name": "python3"
  },
  "language_info": {
   "codemirror_mode": {
    "name": "ipython",
    "version": 3
   },
   "file_extension": ".py",
   "mimetype": "text/x-python",
   "name": "python",
   "nbconvert_exporter": "python",
   "pygments_lexer": "ipython3",
   "version": "3.10.16"
  }
 },
 "nbformat": 4,
 "nbformat_minor": 2
}
